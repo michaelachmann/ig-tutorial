{
  "nbformat": 4,
  "nbformat_minor": 0,
  "metadata": {
    "colab": {
      "provenance": [],
      "include_colab_link": true
    },
    "kernelspec": {
      "name": "python3",
      "display_name": "Python 3"
    },
    "language_info": {
      "name": "python"
    },
    "widgets": {
      "application/vnd.jupyter.widget-state+json": {
        "d0e8248f20314929ab7290313d7b7fca": {
          "model_module": "@jupyter-widgets/controls",
          "model_name": "HBoxModel",
          "model_module_version": "1.5.0",
          "state": {
            "_dom_classes": [],
            "_model_module": "@jupyter-widgets/controls",
            "_model_module_version": "1.5.0",
            "_model_name": "HBoxModel",
            "_view_count": null,
            "_view_module": "@jupyter-widgets/controls",
            "_view_module_version": "1.5.0",
            "_view_name": "HBoxView",
            "box_style": "",
            "children": [
              "IPY_MODEL_e9b4da35b28c4c37a959af3852fe7a7b",
              "IPY_MODEL_a4eeb318c69c4014b2b7719e1b25225c",
              "IPY_MODEL_dfd7aade8e10493ebc6ec8a7c085cbc2"
            ],
            "layout": "IPY_MODEL_9e830d38a76848838378fcfe8d8dae48"
          }
        },
        "e9b4da35b28c4c37a959af3852fe7a7b": {
          "model_module": "@jupyter-widgets/controls",
          "model_name": "HTMLModel",
          "model_module_version": "1.5.0",
          "state": {
            "_dom_classes": [],
            "_model_module": "@jupyter-widgets/controls",
            "_model_module_version": "1.5.0",
            "_model_name": "HTMLModel",
            "_view_count": null,
            "_view_module": "@jupyter-widgets/controls",
            "_view_module_version": "1.5.0",
            "_view_name": "HTMLView",
            "description": "",
            "description_tooltip": null,
            "layout": "IPY_MODEL_f3ff70a3040a401a97ff95d5aa49613a",
            "placeholder": "​",
            "style": "IPY_MODEL_22cbb422e31f4526a3d6559f567b1fa8",
            "value": "100%"
          }
        },
        "a4eeb318c69c4014b2b7719e1b25225c": {
          "model_module": "@jupyter-widgets/controls",
          "model_name": "FloatProgressModel",
          "model_module_version": "1.5.0",
          "state": {
            "_dom_classes": [],
            "_model_module": "@jupyter-widgets/controls",
            "_model_module_version": "1.5.0",
            "_model_name": "FloatProgressModel",
            "_view_count": null,
            "_view_module": "@jupyter-widgets/controls",
            "_view_module_version": "1.5.0",
            "_view_name": "ProgressView",
            "bar_style": "success",
            "description": "",
            "description_tooltip": null,
            "layout": "IPY_MODEL_2dcf80dad8ff455ea0d235f0ea4d2bbc",
            "max": 5,
            "min": 0,
            "orientation": "horizontal",
            "style": "IPY_MODEL_ed581dd35e064ccb8a90088663718a66",
            "value": 5
          }
        },
        "dfd7aade8e10493ebc6ec8a7c085cbc2": {
          "model_module": "@jupyter-widgets/controls",
          "model_name": "HTMLModel",
          "model_module_version": "1.5.0",
          "state": {
            "_dom_classes": [],
            "_model_module": "@jupyter-widgets/controls",
            "_model_module_version": "1.5.0",
            "_model_name": "HTMLModel",
            "_view_count": null,
            "_view_module": "@jupyter-widgets/controls",
            "_view_module_version": "1.5.0",
            "_view_name": "HTMLView",
            "description": "",
            "description_tooltip": null,
            "layout": "IPY_MODEL_05fe9fa653804364887a671eba646b3b",
            "placeholder": "​",
            "style": "IPY_MODEL_ba040b9d901649198653a45b6f22c5cf",
            "value": " 5/5 [00:00&lt;00:00, 70.77it/s]"
          }
        },
        "9e830d38a76848838378fcfe8d8dae48": {
          "model_module": "@jupyter-widgets/base",
          "model_name": "LayoutModel",
          "model_module_version": "1.2.0",
          "state": {
            "_model_module": "@jupyter-widgets/base",
            "_model_module_version": "1.2.0",
            "_model_name": "LayoutModel",
            "_view_count": null,
            "_view_module": "@jupyter-widgets/base",
            "_view_module_version": "1.2.0",
            "_view_name": "LayoutView",
            "align_content": null,
            "align_items": null,
            "align_self": null,
            "border": null,
            "bottom": null,
            "display": null,
            "flex": null,
            "flex_flow": null,
            "grid_area": null,
            "grid_auto_columns": null,
            "grid_auto_flow": null,
            "grid_auto_rows": null,
            "grid_column": null,
            "grid_gap": null,
            "grid_row": null,
            "grid_template_areas": null,
            "grid_template_columns": null,
            "grid_template_rows": null,
            "height": null,
            "justify_content": null,
            "justify_items": null,
            "left": null,
            "margin": null,
            "max_height": null,
            "max_width": null,
            "min_height": null,
            "min_width": null,
            "object_fit": null,
            "object_position": null,
            "order": null,
            "overflow": null,
            "overflow_x": null,
            "overflow_y": null,
            "padding": null,
            "right": null,
            "top": null,
            "visibility": null,
            "width": null
          }
        },
        "f3ff70a3040a401a97ff95d5aa49613a": {
          "model_module": "@jupyter-widgets/base",
          "model_name": "LayoutModel",
          "model_module_version": "1.2.0",
          "state": {
            "_model_module": "@jupyter-widgets/base",
            "_model_module_version": "1.2.0",
            "_model_name": "LayoutModel",
            "_view_count": null,
            "_view_module": "@jupyter-widgets/base",
            "_view_module_version": "1.2.0",
            "_view_name": "LayoutView",
            "align_content": null,
            "align_items": null,
            "align_self": null,
            "border": null,
            "bottom": null,
            "display": null,
            "flex": null,
            "flex_flow": null,
            "grid_area": null,
            "grid_auto_columns": null,
            "grid_auto_flow": null,
            "grid_auto_rows": null,
            "grid_column": null,
            "grid_gap": null,
            "grid_row": null,
            "grid_template_areas": null,
            "grid_template_columns": null,
            "grid_template_rows": null,
            "height": null,
            "justify_content": null,
            "justify_items": null,
            "left": null,
            "margin": null,
            "max_height": null,
            "max_width": null,
            "min_height": null,
            "min_width": null,
            "object_fit": null,
            "object_position": null,
            "order": null,
            "overflow": null,
            "overflow_x": null,
            "overflow_y": null,
            "padding": null,
            "right": null,
            "top": null,
            "visibility": null,
            "width": null
          }
        },
        "22cbb422e31f4526a3d6559f567b1fa8": {
          "model_module": "@jupyter-widgets/controls",
          "model_name": "DescriptionStyleModel",
          "model_module_version": "1.5.0",
          "state": {
            "_model_module": "@jupyter-widgets/controls",
            "_model_module_version": "1.5.0",
            "_model_name": "DescriptionStyleModel",
            "_view_count": null,
            "_view_module": "@jupyter-widgets/base",
            "_view_module_version": "1.2.0",
            "_view_name": "StyleView",
            "description_width": ""
          }
        },
        "2dcf80dad8ff455ea0d235f0ea4d2bbc": {
          "model_module": "@jupyter-widgets/base",
          "model_name": "LayoutModel",
          "model_module_version": "1.2.0",
          "state": {
            "_model_module": "@jupyter-widgets/base",
            "_model_module_version": "1.2.0",
            "_model_name": "LayoutModel",
            "_view_count": null,
            "_view_module": "@jupyter-widgets/base",
            "_view_module_version": "1.2.0",
            "_view_name": "LayoutView",
            "align_content": null,
            "align_items": null,
            "align_self": null,
            "border": null,
            "bottom": null,
            "display": null,
            "flex": null,
            "flex_flow": null,
            "grid_area": null,
            "grid_auto_columns": null,
            "grid_auto_flow": null,
            "grid_auto_rows": null,
            "grid_column": null,
            "grid_gap": null,
            "grid_row": null,
            "grid_template_areas": null,
            "grid_template_columns": null,
            "grid_template_rows": null,
            "height": null,
            "justify_content": null,
            "justify_items": null,
            "left": null,
            "margin": null,
            "max_height": null,
            "max_width": null,
            "min_height": null,
            "min_width": null,
            "object_fit": null,
            "object_position": null,
            "order": null,
            "overflow": null,
            "overflow_x": null,
            "overflow_y": null,
            "padding": null,
            "right": null,
            "top": null,
            "visibility": null,
            "width": null
          }
        },
        "ed581dd35e064ccb8a90088663718a66": {
          "model_module": "@jupyter-widgets/controls",
          "model_name": "ProgressStyleModel",
          "model_module_version": "1.5.0",
          "state": {
            "_model_module": "@jupyter-widgets/controls",
            "_model_module_version": "1.5.0",
            "_model_name": "ProgressStyleModel",
            "_view_count": null,
            "_view_module": "@jupyter-widgets/base",
            "_view_module_version": "1.2.0",
            "_view_name": "StyleView",
            "bar_color": null,
            "description_width": ""
          }
        },
        "05fe9fa653804364887a671eba646b3b": {
          "model_module": "@jupyter-widgets/base",
          "model_name": "LayoutModel",
          "model_module_version": "1.2.0",
          "state": {
            "_model_module": "@jupyter-widgets/base",
            "_model_module_version": "1.2.0",
            "_model_name": "LayoutModel",
            "_view_count": null,
            "_view_module": "@jupyter-widgets/base",
            "_view_module_version": "1.2.0",
            "_view_name": "LayoutView",
            "align_content": null,
            "align_items": null,
            "align_self": null,
            "border": null,
            "bottom": null,
            "display": null,
            "flex": null,
            "flex_flow": null,
            "grid_area": null,
            "grid_auto_columns": null,
            "grid_auto_flow": null,
            "grid_auto_rows": null,
            "grid_column": null,
            "grid_gap": null,
            "grid_row": null,
            "grid_template_areas": null,
            "grid_template_columns": null,
            "grid_template_rows": null,
            "height": null,
            "justify_content": null,
            "justify_items": null,
            "left": null,
            "margin": null,
            "max_height": null,
            "max_width": null,
            "min_height": null,
            "min_width": null,
            "object_fit": null,
            "object_position": null,
            "order": null,
            "overflow": null,
            "overflow_x": null,
            "overflow_y": null,
            "padding": null,
            "right": null,
            "top": null,
            "visibility": null,
            "width": null
          }
        },
        "ba040b9d901649198653a45b6f22c5cf": {
          "model_module": "@jupyter-widgets/controls",
          "model_name": "DescriptionStyleModel",
          "model_module_version": "1.5.0",
          "state": {
            "_model_module": "@jupyter-widgets/controls",
            "_model_module_version": "1.5.0",
            "_model_name": "DescriptionStyleModel",
            "_view_count": null,
            "_view_module": "@jupyter-widgets/base",
            "_view_module_version": "1.2.0",
            "_view_name": "StyleView",
            "description_width": ""
          }
        }
      }
    }
  },
  "cells": [
    {
      "cell_type": "markdown",
      "metadata": {
        "id": "view-in-github",
        "colab_type": "text"
      },
      "source": [
        "<a href=\"https://colab.research.google.com/github/michaelachmann/ig-tutorial/blob/main/01_DataCollection.ipynb\" target=\"_parent\"><img src=\"https://colab.research.google.com/assets/colab-badge.svg\" alt=\"Open In Colab\"/></a>"
      ]
    },
    {
      "cell_type": "markdown",
      "source": [
        "# 1. Getting Started: Data Collection\n",
        "\n",
        "This is the first in a series of jupyter notebooks taking you through all necessary steps for an Instagram analysis. \n",
        "\n",
        "## Getting to know Colab\n",
        "Let's start using colab by mounting your google drive. Move your mouse to the left hand side of the cell below, where you can see `[ ]`, once you hover the `[ ]` a play button appears. Press the button. A few seconds later you need to confirm the connection to your drive. A new (smaller) window opens, select your account and confirm once more (scroll to the bottom of the small window).\n",
        "\n",
        "↓"
      ],
      "metadata": {
        "id": "zCevePwtWFWS"
      }
    },
    {
      "cell_type": "code",
      "source": [
        "from google.colab import drive\n",
        "drive.mount('/content/drive')"
      ],
      "metadata": {
        "colab": {
          "base_uri": "https://localhost:8080/"
        },
        "id": "bCKJckeHW4ns",
        "outputId": "7fe5f842-22c3-4957-8f63-41a3f5a310b2"
      },
      "execution_count": null,
      "outputs": [
        {
          "output_type": "stream",
          "name": "stdout",
          "text": [
            "Mounted at /content/drive\n"
          ]
        }
      ]
    },
    {
      "cell_type": "markdown",
      "source": [
        "A few seconds later the output below the cell above should read `Mounted at /content/drive`. This step is necessary, because everything in this notebook's environment is ephemeral. Once we reconnect tomorrow, all data will be gone. Hence, we write everything important to Google Drive, which ist now available at `/content/drive/MyDrive/`.\n",
        "\n",
        "## Install instaloader\n",
        "Now we are all set to install our first python package. In order to download posts and stories from Instagram, we use the package `instaloader`. You can install package for python using `pip install <package>`, the command `-q` minimizes the output. "
      ],
      "metadata": {
        "id": "yIChbPDPYQuo"
      }
    },
    {
      "cell_type": "code",
      "execution_count": null,
      "metadata": {
        "colab": {
          "base_uri": "https://localhost:8080/"
        },
        "id": "wMwU60m8V7EO",
        "outputId": "aa0e0d4b-dd59-489d-b9cb-4d8f19709378"
      },
      "outputs": [
        {
          "output_type": "stream",
          "name": "stdout",
          "text": [
            "\u001b[?25l\r\u001b[K     |█████▍                          | 10 kB 22.1 MB/s eta 0:00:01\r\u001b[K     |██████████▉                     | 20 kB 21.9 MB/s eta 0:00:01\r\u001b[K     |████████████████▎               | 30 kB 6.5 MB/s eta 0:00:01\r\u001b[K     |█████████████████████▋          | 40 kB 4.7 MB/s eta 0:00:01\r\u001b[K     |███████████████████████████     | 51 kB 5.2 MB/s eta 0:00:01\r\u001b[K     |████████████████████████████████| 60 kB 3.0 MB/s \n",
            "\u001b[?25h  Building wheel for instaloader (setup.py) ... \u001b[?25l\u001b[?25hdone\n"
          ]
        }
      ],
      "source": [
        "!pip -q install instaloader"
      ]
    },
    {
      "cell_type": "markdown",
      "source": [
        "Once you install instaloader we log in using your username and password. Session information (not your credentials!) is stored in Google Drive to minimize the need for signing in. \n",
        "\n",
        "**In order to minimize the risk for your account to be disabled we suggest creating a new account on your phone before proceeding!**\n",
        "\n"
      ],
      "metadata": {
        "id": "7YoJ4ZtxZDzi"
      }
    },
    {
      "cell_type": "code",
      "source": [
        "#@title Logging into Instagram { display-mode: \"form\" }\n",
        "#@markdown Please provide your username and run the cell. You will be asked to enter your password next.\n",
        "\n",
        "username = 'your.username'  #@param {type: \"string\"}\n",
        "\n",
        "#@markdown We save the sessionfile to the following directory. Default is the new folder `.instaloader` in your google drive.\n",
        "session_directory = '/content/drive/MyDrive/.instaloader/' #@param {type: \"string\"}\n",
        "\n",
        "import instaloader\n",
        "from os.path import exists\n",
        "from pathlib import Path\n",
        "\n",
        "# Creating session directory, if it does not exists yet\n",
        "Path(session_directory).mkdir(parents=True, exist_ok=True)\n",
        "\n",
        "filename = \"{}session-{}\".format(session_directory, username)\n",
        "sessionfile = Path(filename)\n",
        "\n",
        "\n",
        "# Get instance\n",
        "L = instaloader.Instaloader(compress_json=False)\n",
        "\n",
        "# Check if sessionfile exists. If so load session,\n",
        "# else login interactively\n",
        "if exists(sessionfile):\n",
        "  L.load_session_from_file(username, sessionfile)\n",
        "\n",
        "else:\n",
        "  L.interactive_login(username)\n",
        "  L.save_session_to_file(sessionfile)\n"
      ],
      "metadata": {
        "colab": {
          "base_uri": "https://localhost:8080/"
        },
        "id": "Nguy-cGeZtND",
        "outputId": "c3ef332c-d64c-4188-fc11-cbc1dfafb80e"
      },
      "execution_count": null,
      "outputs": [
        {
          "output_type": "stream",
          "name": "stdout",
          "text": [
            "Loaded session from /content/drive/MyDrive/.instaloader/session-mi_sm_lab05.\n"
          ]
        }
      ]
    },
    {
      "cell_type": "markdown",
      "source": [
        "## Downloading first Posts\n",
        "Next we try to download all posts of a profile. Provide a username and folder:"
      ],
      "metadata": {
        "id": "9L3aQohsdM3r"
      }
    },
    {
      "cell_type": "code",
      "source": [
        "dest_username = 'some.profile'  #@param {type: \"string\"}\n",
        "dest_dir = './drive/MyDrive/insta-posts/'  #@param {type: \"string\"}\n",
        "\n",
        "t = Path(\"{}{}\".format(dest_dir, dest_username))\n",
        "t.mkdir(parents=True, exist_ok=True)\n",
        "\n",
        "profile = instaloader.Profile.from_username(L.context, dest_username)\n",
        "for post in profile.get_posts():\n",
        "    L.download_post(post, target=t)"
      ],
      "metadata": {
        "cellView": "form",
        "id": "GFqLnIr1Zcop"
      },
      "execution_count": null,
      "outputs": []
    },
    {
      "cell_type": "markdown",
      "source": [
        "Well, you just downloaded your first posts! Open Google Drive and check the folder `insta-posts/` (or whatever folder you chose above)! There should be three files for each post, the image, a `.json` file and a `.txt` file. The `.txt` includes the image caption, the `.json` lots of metadata about the post. \n",
        "\n",
        "### Diving into the metadata \n",
        "The next cell reads all `.json` files of the downloaded posts. Then we browse through some interesting data."
      ],
      "metadata": {
        "id": "rCOPhEdiinMe"
      }
    },
    {
      "cell_type": "code",
      "source": [
        "# Reading the paths of all JSON files from dest_dir\n",
        "import os\n",
        "\n",
        "json_files = []\n",
        "\n",
        "for subdir, dirs, files in os.walk(t):\n",
        "    for file in files:\n",
        "        fullpath = os.path.join(subdir, file)\n",
        "        filename, file_extension = os.path.splitext(fullpath)\n",
        "        if file_extension == \".json\":\n",
        "          json_files.append(fullpath)"
      ],
      "metadata": {
        "id": "jssPEOtGjeny"
      },
      "execution_count": null,
      "outputs": []
    },
    {
      "cell_type": "code",
      "source": [
        "# Reading all JSON files\n",
        "from tqdm.notebook import tqdm\n",
        "import json\n",
        "\n",
        "json_data = []\n",
        "\n",
        "for file in tqdm(json_files):\n",
        "  with open(file, 'r') as f:\n",
        "    data = json.load(f)\n",
        "    json_data.append(data)"
      ],
      "metadata": {
        "colab": {
          "base_uri": "https://localhost:8080/",
          "height": 49,
          "referenced_widgets": [
            "d0e8248f20314929ab7290313d7b7fca",
            "e9b4da35b28c4c37a959af3852fe7a7b",
            "a4eeb318c69c4014b2b7719e1b25225c",
            "dfd7aade8e10493ebc6ec8a7c085cbc2",
            "9e830d38a76848838378fcfe8d8dae48",
            "f3ff70a3040a401a97ff95d5aa49613a",
            "22cbb422e31f4526a3d6559f567b1fa8",
            "2dcf80dad8ff455ea0d235f0ea4d2bbc",
            "ed581dd35e064ccb8a90088663718a66",
            "05fe9fa653804364887a671eba646b3b",
            "ba040b9d901649198653a45b6f22c5cf"
          ]
        },
        "id": "6kzkxjZQkFsc",
        "outputId": "6574dec3-eccd-46e1-cfd6-3798995857e6"
      },
      "execution_count": null,
      "outputs": [
        {
          "output_type": "display_data",
          "data": {
            "text/plain": [
              "  0%|          | 0/5 [00:00<?, ?it/s]"
            ],
            "application/vnd.jupyter.widget-view+json": {
              "version_major": 2,
              "version_minor": 0,
              "model_id": "d0e8248f20314929ab7290313d7b7fca"
            }
          },
          "metadata": {}
        }
      ]
    },
    {
      "cell_type": "markdown",
      "source": [
        "Ok, now all metadata for all posts is saved to the variable `json_data`. Run the next line and copy its output to http://jsonviewer.stack.hu/. Your output should look similar, go ahead and play around to explore your data! What information can you extract?\n",
        "\n",
        "![Bildschirmfoto 2022-08-19 um 16.48.55.png](data:image/png;base64,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)"
      ],
      "metadata": {
        "id": "Z0Dp5tPPkcHf"
      }
    },
    {
      "cell_type": "code",
      "source": [
        "print(json.dumps(json_data[0]))"
      ],
      "metadata": {
        "id": "mwaY7sY1krAW"
      },
      "execution_count": null,
      "outputs": []
    },
    {
      "cell_type": "markdown",
      "source": [
        "### Metadata Preprocessing \n",
        "Posts contain plenty of data, like time and location of the post, the authoring user, a caption, tagged users and more."
      ],
      "metadata": {
        "id": "55WnOol1lnEI"
      }
    },
    {
      "cell_type": "code",
      "source": [
        "#@title What data do you want to use?\n",
        "username = True #@param {type:\"boolean\"}\n",
        "timestamp = True #@param {type:\"boolean\"}\n",
        "caption = True #@param {type:\"boolean\"}\n",
        "location = True #@param {type:\"boolean\"}\n",
        "shortcode = True #@param {type:\"boolean\"}\n",
        "id = True #@param {type:\"boolean\"}\n",
        "tagged_users = True #@param {type:\"boolean\"}\n"
      ],
      "metadata": {
        "id": "rXaNP9BmBPTl",
        "cellView": "form"
      },
      "execution_count": null,
      "outputs": []
    },
    {
      "cell_type": "markdown",
      "source": [
        "Next we loop through the data and create a new [pandas](https://pandas.pydata.org/) DataFrame. The DataFrame will have one column for each variable selected above and one row for each downloaded posts. \n",
        "\n",
        "If you are not yet familiar with the concept of dataframes have a look at [YouTube](https://www.youtube.com/results?search_query=pandas+dataframe+basics), there's plenty of introductory videos available."
      ],
      "metadata": {
        "id": "32W5B0u2B3mD"
      }
    },
    {
      "cell_type": "code",
      "source": [
        "import pandas as pd\n",
        "\n",
        "posts = []  # Initializing an empty list for all posts\n",
        "for post in tqdm(json_data):\n",
        "  row = {} # Initializing an empty row for the post\n",
        "\n",
        "  node = post.get(\"node\")\n",
        "\n",
        "  if username:\n",
        "    owner = node.get(\"owner\")\n",
        "    row['username'] = owner.get(\"username\")\n",
        "\n",
        "  if timestamp:\n",
        "    row['timestamp'] = node.get(\"taken_at_timestamp\")\n",
        "\n",
        "  if location:\n",
        "    l = node.get(\"location\", None)\n",
        "    if l:\n",
        "      row['location'] = l.get(\"name\")\n",
        "\n",
        "  if shortcode:\n",
        "    row['shortcode'] = node.get(\"shortcode\")\n",
        "\n",
        "  if id:\n",
        "    row['id'] = node.get(\"id\")\n",
        "  \n",
        "  if tagged_users:\n",
        "    pass\n",
        "\n",
        "  if caption:\n",
        "    c = \"\"\n",
        "    emtc = node.get(\"edge_media_to_caption\")\n",
        "    edges = emtc.get(\"edges\")\n",
        "    for element in edges:\n",
        "      caption_node = element.get(\"node\")\n",
        "      c = c + caption_node.get(\"text\")\n",
        "    row['caption'] = c\n",
        "\n",
        "  # Finally add row to posts\n",
        "  posts.append(row)\n",
        "\n",
        "# After looping through all posts create data frame from list\n",
        "posts_df = pd.DataFrame.from_dict(posts)"
      ],
      "metadata": {
        "id": "Q4EyuVw-B2Xk"
      },
      "execution_count": null,
      "outputs": []
    },
    {
      "cell_type": "markdown",
      "source": [
        "Now all information selected above is saved to the dataframe `posts_df`. Run the next cell and it will return a nicely formatted table. If your data is quite long, output will be cropped. Click the wand ![Magic](data:image/png;base64,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) and after a few seconds you are able to browse through the data or filter by columns"
      ],
      "metadata": {
        "id": "iW0_eOrAHGYy"
      }
    },
    {
      "cell_type": "code",
      "source": [
        "posts_df"
      ],
      "metadata": {
        "id": "jeK59LIIGDLA"
      },
      "execution_count": null,
      "outputs": []
    },
    {
      "cell_type": "markdown",
      "source": [
        "In order to get a first impression of dataframes, the `head()` method is also useful. Run the next cell to see the result"
      ],
      "metadata": {
        "id": "sGd4ZnU2H8Sf"
      }
    },
    {
      "cell_type": "code",
      "source": [
        "posts_df.head()"
      ],
      "metadata": {
        "id": "_GOSsm9TGDEz"
      },
      "execution_count": null,
      "outputs": []
    },
    {
      "cell_type": "markdown",
      "source": [
        "The dataframe is only saved in memory, thus when disconnecting and deleting the runtime, the dataframe is lost. Running the next cell saves the table to a [CSV](https://en.wikipedia.org/wiki/Comma-separated_values)-file on your drive. \n",
        "\n",
        "Now the processed data may be recovered or used in another notebook."
      ],
      "metadata": {
        "id": "dhDjIcb1I3bN"
      }
    },
    {
      "cell_type": "code",
      "source": [
        "posts_df.to_csv('{}{}.csv'.format(dest_dir, username))"
      ],
      "metadata": {
        "id": "ZFe2GzUjJZaI"
      },
      "execution_count": null,
      "outputs": []
    },
    {
      "cell_type": "markdown",
      "source": [
        "That's it for this notebook! Now you know how to\n",
        "\n",
        "\n",
        "*   log into Instagram using `instaloader`\n",
        "*   save a session\n",
        "* download posts\n",
        "* read the post metadata\n",
        "* create a dataframe\n",
        "* and save dataframes to CSV files.\n",
        "\n",
        "See you in the next notebook!\n",
        "\n"
      ],
      "metadata": {
        "id": "0M6Fu7lcJ6h4"
      }
    }
  ]
}