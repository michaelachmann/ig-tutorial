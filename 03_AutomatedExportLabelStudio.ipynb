{
  "cells": [
    {
      "cell_type": "markdown",
      "metadata": {
        "colab_type": "text",
        "id": "view-in-github"
      },
      "source": [
        "<a href=\"https://colab.research.google.com/github/michaelachmann/ig-tutorial/blob/main/03_AutomatedExportLabelStudio\" target=\"_parent\"><img src=\"https://colab.research.google.com/assets/colab-badge.svg\" alt=\"Open In Colab\"/></a>"
      ]
    },
    {
      "cell_type": "markdown",
      "metadata": {
        "id": "voKy2rVy7PlL"
      },
      "source": [
        "# Automated Export to LabelStudio [![DOI](https://zenodo.org/badge/573008138.svg)](https://zenodo.org/badge/latestdoi/573008138)\n",
        "\n",
        "![A robot conducting visual social media analysis](https://user-images.githubusercontent.com/8556092/229534426-846f4b4d-61b6-499b-8465-65e93b278c35.png)\n",
        "\n",
        "## Overview\n",
        "\n",
        "This Jupyter notebook is a part of a tutorial series on computational social media analysis. The notebook is intended for use with my [Medium articles](https://achmann.dev/).\n",
        "\n",
        "The **Automated Export to LabelStudio** Notebook helps to programmatically create a LabelStudio Project, and to add annotation tasks and a simple interface.\n",
        "\n",
        "### Project Information\n",
        "\n",
        "- Project Website: [achmann.dev](https://achmann.dev/)\n",
        "- GitHub Repository: [https://github.com/michaelachmann/ig-tutorial](https://github.com/michaelachmann/ig-tutorial)\n",
        "\n",
        "## License Information\n",
        "\n",
        "This notebook, along with all other notebooks in the project, is licensed under the following terms:\n",
        "\n",
        "- License: [GNU General Public License version 3.0 (GPL-3.0)](https://www.gnu.org/licenses/gpl-3.0.de.html)\n",
        "- License File: [LICENSE.md](https://github.com/michaelachmann/ig-tutorial/blob/main/LICENSE.md)\n",
        "\n",
        "\n",
        "## Citation\n",
        "\n",
        "If you use or reference this notebook in your work, please cite it appropriately. Here is an example of the citation:\n",
        "\n",
        "```\n",
        "Michael Achmann. (2023). michaelachmann/ig-tutorial: First Release (v1.0.0). Zenodo. https://doi.org/10.5281/zenodo.8199595\n",
        "\n",
        "```"
      ]
    },
    {
      "cell_type": "code",
      "execution_count": 3,
      "metadata": {
        "colab": {
          "base_uri": "https://localhost:8080/"
        },
        "id": "J1sLoUSsXzS4",
        "outputId": "97efe815-e04c-4bae-e5b4-1689e81ddb1b"
      },
      "outputs": [
        {
          "name": "stdout",
          "output_type": "stream",
          "text": [
            "  Preparing metadata (setup.py) ... \u001b[?25l\u001b[?25hdone\n",
            "  Building wheel for gcloud (setup.py) ... \u001b[?25l\u001b[?25hdone\n"
          ]
        }
      ],
      "source": [
        "!pip -q install gcloud label-studio-sdk"
      ]
    },
    {
      "cell_type": "code",
      "execution_count": null,
      "metadata": {
        "id": "7Rg4rEJy7mBw"
      },
      "outputs": [],
      "source": [
        "from google.colab import drive\n",
        "drive.mount('/content/drive')"
      ]
    },
    {
      "cell_type": "code",
      "execution_count": 4,
      "metadata": {
        "cellView": "form",
        "id": "S6_-fxPK7Cz-"
      },
      "outputs": [],
      "source": [
        "#@title ## Gcloud Setup\n",
        "#@markdown Please specify the file path for the credentials file in order to upload images to google cloud bucket.\n",
        "\n",
        "import json\n",
        "from gcloud import storage\n",
        "from oauth2client.service_account import ServiceAccountCredentials\n",
        "\n",
        "gcloud_credentials_path = 'public-ws2223.json' #@param {type: \"string\"}\n",
        "gcloud_bucket = 'ws2223-labelstudio' #@param {type: \"string\"}\n",
        "\n",
        "with open(gcloud_credentials_path, 'rb') as f:\n",
        "  credentials_dict = json.loads(f.read())\n",
        "\n",
        "credentials = ServiceAccountCredentials.from_json_keyfile_dict(\n",
        "    credentials_dict\n",
        ")\n",
        "client = storage.Client(credentials=credentials, project='local-grove-153811')\n",
        "bucket = client.get_bucket(gcloud_bucket)"
      ]
    },
    {
      "cell_type": "code",
      "execution_count": 16,
      "metadata": {
        "cellView": "form",
        "id": "71Cj4_19X3AV"
      },
      "outputs": [],
      "source": [
        "#@title ## LabelStudio Setup\n",
        "#@markdown Please specify the the URL and API-Key for you LabelStudio Instance.\n",
        "\n",
        "labelstudio_key = \"YOUR-API-KEY\" #@param {type: \"string\"}\n",
        "labelstudio_url = \"https://app.heartex.com/\" #@param {type: \"string\"}\n"
      ]
    },
    {
      "cell_type": "markdown",
      "metadata": {
        "id": "YhkLOWLnYQlI"
      },
      "source": [
        "# Image Upload to Google Cloud Bucket\n",
        "\n",
        "Please choose the right cells based on whether you have collected your data using `instaloader` according to my Tutorial or using CrowdTangle."
      ]
    },
    {
      "cell_type": "markdown",
      "metadata": {
        "id": "Tz9zHUMfNF8k"
      },
      "source": [
        "## Instaloader\n",
        "We're assuming that you have transformed the Instaloader files using the [DataCollection Notebook](https://github.com/michaelachmann/ig-tutorial/blob/main/01_DataCollection.ipynb). Image files are located at `working_dir/username/`"
      ]
    },
    {
      "cell_type": "code",
      "execution_count": 8,
      "metadata": {
        "cellView": "form",
        "id": "3ZItxDcCRrhv"
      },
      "outputs": [],
      "source": [
        "#@title ## Optional: Unzip from GDrive\n",
        "#@markdown Upload your data as a `zip` file to Google Drive and provide the path. Run the cell to unzip it in this VM.\n",
        "\n",
        "import shutil\n",
        "\n",
        "instaloader_zip = '/content/drive/MyDrive/ESNCOM-Gruppe.zip' #@param {type:\"string\"}\n",
        "working_dir = '/content/working_dir/' #@param {type: \"string\"}\n",
        "\n",
        "shutil.unpack_archive(instaloader_zip, working_dir)"
      ]
    },
    {
      "cell_type": "code",
      "execution_count": 9,
      "metadata": {
        "cellView": "form",
        "id": "c-DvndUyh2vd"
      },
      "outputs": [],
      "source": [
        "#@title ## Data Setup\n",
        "#@markdown Please upload the ZIP file with all media / image files and provide the path to your CSV-File created with the DataCollection notebook.\n",
        "\n",
        "from google.colab import files\n",
        "import shutil\n",
        "import os\n",
        "import pandas as pd\n",
        "\n",
        "csv_file = '/content/drive/MyDrive/ESNCOM-Gruppeinstaloader_output.csv' #@param {type: \"string\"}\n",
        "df = pd.read_csv(csv_file)"
      ]
    },
    {
      "cell_type": "code",
      "execution_count": null,
      "metadata": {
        "cellView": "form",
        "id": "b_hl7Rhr1JT4"
      },
      "outputs": [],
      "source": [
        "#@title ## Image Upload\n",
        "#@markdown Next we will upload all images to the cloud storage. Please provide the path for your image files (check on the left hand-side). This takes some time.\n",
        "\n",
        "image_dir = \"/content/working_dir/ESNCOM-Gruppe\"  #@param {type: \"string\"}\n",
        "# Upload images to Bucket\n",
        "df[\"image\"] = df.apply(lambda x: \"gs://{}/{}-{}.jpg\".format(gcloud_bucket, x['username'], x['id']), axis=1)\n",
        "\n",
        "i = 0\n",
        "j = 0\n",
        "for index, row in df.iterrows():\n",
        "  filename = \"{}-{}.jpg\".format(row['username'], row['id'])\n",
        "  source_filename = \"{}/{}/{}.jpg\".format(image_dir,row['username'], row['filename'])\n",
        "  blob = bucket.blob(filename)\n",
        "\n",
        "  if not blob.exists(client):\n",
        "    try:\n",
        "      blob.upload_from_filename(source_filename)\n",
        "    except:\n",
        "      print(\"Uploading {} failed: Missing File\".format(source_filename))\n",
        "    j += 0\n",
        "  i += 1\n",
        "\n",
        "print(\"Uploaded {} images successfully, skipped {} existing files.\".format(i, j))"
      ]
    },
    {
      "cell_type": "markdown",
      "metadata": {
        "id": "J8mWRqE6gjNY"
      },
      "source": [
        "## CrowdTangle\n",
        "The next cells assumes that you exported a DataFrame from CrowdTangle and used my [CrowdTangleDownload Notebook](https://github.com/michaelachmann/ig-tutorial/blob/main/02_CrowdTangleDownload.ipynb) to download the images."
      ]
    },
    {
      "cell_type": "code",
      "execution_count": null,
      "metadata": {
        "cellView": "form",
        "id": "tGfbRWTDQTIh"
      },
      "outputs": [],
      "source": [
        "#@title ## Optional: Unzip from GDrive\n",
        "#@markdown Upload your data as a `zip` file to Google Drive and provide the path. Run the cell to unzip it in this VM.\n",
        "\n",
        "import shutil\n",
        "\n",
        "crowdtangle_zip = '/content/drive/MyDrive/bodypositivity.zip' #@param {type:\"string\"}\n",
        "working_dir = '/content/working_dir/' #@param {type: \"string\"}\n",
        "\n",
        "shutil.unpack_archive(crowdtangle_zip, working_dir)"
      ]
    },
    {
      "cell_type": "code",
      "execution_count": null,
      "metadata": {
        "cellView": "form",
        "id": "lzURW9Y5NOlS"
      },
      "outputs": [],
      "source": [
        "#@title ## Upload images to Cloud\n",
        "\n",
        "import pandas as pd\n",
        "\n",
        "crowdtangle_csv_file = '/content/working_dir/bodypositivity/bodypositivity.csv' #@param {type:\"string\"}\n",
        "image_dir = '/content/working_dir/bodypositivity/images' #@param {type: \"string\"}\n",
        "\n",
        "df = pd.read_csv(crowdtangle_csv_file)\n",
        "\n",
        "df['ocr_text'] = df['Image Text']\n",
        "df['username'] = df['User Name']\n",
        "df['id'] = df['URL'].apply(lambda x: x.split(\"/\")[-2])\n",
        "df[\"image\"] = df.apply(lambda x: \"gs://{}/{}-{}.jpg\".format(gcloud_bucket, x['username'], x['id']), axis=1)\n",
        "\n",
        "i = 0\n",
        "j = 0\n",
        "for index, row in df.iterrows():\n",
        "  filename = \"{}-{}.jpg\".format(row['username'], row['id'])\n",
        "  source_filename = \"{}/{}/{}.jpg\".format(image_dir,row['username'], row['id'])\n",
        "  blob = bucket.blob(filename)\n",
        "  if not blob.exists(client):\n",
        "    try:\n",
        "      blob.upload_from_filename(source_filename)\n",
        "    except:\n",
        "      print(\"Uploading {} failed: Missing File\".format(source_filename))\n",
        "    j += 0\n",
        "  i += 1\n",
        "\n",
        "print(\"Uploaded {} images successfully, skipped {} existing files.\".format(i, j))"
      ]
    },
    {
      "cell_type": "markdown",
      "metadata": {
        "id": "NyWtV-3PDxn3"
      },
      "source": [
        "## Create LabelStudio Interface\n",
        "Before creating the LabelStudio project you will need to define your labelling interface. Once the project is set up you will only be able to edit the interface in LabelStudio."
      ]
    },
    {
      "cell_type": "code",
      "execution_count": 11,
      "metadata": {
        "id": "kVhp0vEGE4an"
      },
      "outputs": [],
      "source": [
        "interface = \"\"\"\n",
        "<View style=\"display:flex;\">\n",
        "  <View style=\"flex:33%\">\n",
        "    <Image name=\"image\" value=\"$image\"/>\n",
        "  </View>\n",
        "  <View style=\"flex:66%\">\n",
        "\"\"\""
      ]
    },
    {
      "cell_type": "code",
      "execution_count": 12,
      "metadata": {
        "cellView": "form",
        "colab": {
          "base_uri": "https://localhost:8080/"
        },
        "id": "mM8j4gVLEDEi",
        "outputId": "b0d18f35-1580-41a6-a67b-bc030ada57f5"
      },
      "outputs": [
        {
          "name": "stdout",
          "output_type": "stream",
          "text": [
            "Added Objects\n"
          ]
        }
      ],
      "source": [
        "#@title ### Bounding Boxes\n",
        "#@markdown Do you want to tag persons / objects in the image using bounding boxes? Please provide a name for the bounding boxes. Add **all** possible values in a **comma-seperated** list! </br> **By running this cell multiple times you're able to add multiple bounding box types (not recommended)**\n",
        "\n",
        "bb_name = \"Objects\" #@param {type:\"string\"}\n",
        "bb_values = \"Food, Beverages, Humans, Cats, Dogs\" #@param {type:\"string\"}\n",
        "\n",
        "\n",
        "bb_interface = ' <Header value=\"{}\" /><Rectangle name=\"{}_bbox\" toName=\"image\" strokeWidth=\"3\"/><RectangleLabels name=\"{}\" toName=\"image\">'.format(bb_name,bb_name,bb_name)\n",
        "\n",
        "for value in bb_values.split(\",\"):\n",
        "  value = value.strip()\n",
        "  bb_interface += '<Label value=\"{}\" />'.format(value)\n",
        "\n",
        "bb_interface += \"</RectangleLabels>\"\n",
        "\n",
        "interface += bb_interface\n",
        "\n",
        "print(\"Added {}\".format(bb_name))"
      ]
    },
    {
      "cell_type": "code",
      "execution_count": 13,
      "metadata": {
        "cellView": "form",
        "colab": {
          "base_uri": "https://localhost:8080/"
        },
        "id": "iYYcR7nnIaj7",
        "outputId": "df9d3fd8-fe13-483a-8b54-a7cd722eeaa8"
      },
      "outputs": [
        {
          "name": "stdout",
          "output_type": "stream",
          "text": [
            "Added Scene\n"
          ]
        }
      ],
      "source": [
        "#@title ### Codes\n",
        "#@markdown Do you want add codes (Classification) to the images? Please name your coding instance and add options. <br/> **By running this cell multiple times you're able to add multiple bounding box types (not recommended)**\n",
        "\n",
        "coding_name = \"Scene\" #@param {type:\"string\"}\n",
        "coding_values = \"Indoor, Outdoor, Unsure\" #@param {type:\"string\"}\n",
        "coding_choice = \"multiple\" #@param [\"single\", \"multiple\"]\n",
        "\n",
        "coding_interface = '<Header value=\"{}\" /><Choices name=\"{}\" choice=\"{}\" toName=\"image\">'.format(coding_name, coding_name,coding_choice)\n",
        "\n",
        "for value in coding_values.split(\",\"):\n",
        "  value = value.strip()\n",
        "  coding_interface += '<Choice value=\"{}\" />'.format(value)\n",
        "\n",
        "coding_interface += \"</Choices>\"\n",
        "\n",
        "interface += coding_interface\n",
        "\n",
        "print(\"Added {}\".format(coding_name))"
      ]
    },
    {
      "cell_type": "code",
      "execution_count": null,
      "metadata": {
        "cellView": "form",
        "id": "whbHaINNDE-o"
      },
      "outputs": [],
      "source": [
        "#@title ### OCR\n",
        "#@markdown Do you want to use (and correct) the OCR results?\n",
        "use_ocr = True #@param {type:\"boolean\"}\n",
        "\n",
        "if use_ocr:\n",
        "  interface += \"\"\"\n",
        "    <Header value=\"Correct the OCR of the Image\"/>\n",
        "    <TextArea name=\"ocr\" value=\"$ocr_text\" toName=\"image\" placeholder=\"Enter any text here\" rows=\"5\"/>\n",
        "  \"\"\"\n"
      ]
    },
    {
      "cell_type": "code",
      "execution_count": 14,
      "metadata": {
        "id": "I1B_JTpMUbjy"
      },
      "outputs": [],
      "source": [
        "interface += \"\"\"\n",
        "        </View>\n",
        "    </View>\n",
        "    \"\"\""
      ]
    },
    {
      "cell_type": "code",
      "execution_count": null,
      "metadata": {
        "cellView": "form",
        "id": "Uyvam3dH7uB5"
      },
      "outputs": [],
      "source": [
        "#@title ## Create LabelStudio Project\n",
        "#@markdown In this step we will create a LabelStudio project and configure cloud storage and the interface.\n",
        "from label_studio_sdk import Client\n",
        "import contextlib\n",
        "import io\n",
        "\n",
        "project_name = \"Medium Test\"  #@param {type: \"string\"}\n",
        "\n",
        "ls = Client(url=labelstudio_url, api_key=labelstudio_key)\n",
        "\n",
        "# Create the project\n",
        "project = ls.start_project(\n",
        "    title=project_name,\n",
        "    label_config=interface,\n",
        "    sampling=\"Uniform sampling\"\n",
        ")\n",
        "\n",
        "# Configure Cloud Storage (in order to be able to view the images)\n",
        "project.connect_google_import_storage(bucket=gcloud_bucket, google_application_credentials=json.dumps(credentials_dict))\n",
        "\n",
        "\n",
        "# Import all tasks\n",
        "df_tasks = df[['image', 'ocr_text', 'username']]\n",
        "df_tasks = df_tasks.fillna(\"\")\n",
        "\n",
        "\n",
        "with contextlib.redirect_stdout(io.StringIO()):\n",
        "  project.import_tasks(\n",
        "        df_tasks.to_dict('records')\n",
        "      )\n",
        "\n",
        "print(f\"All done, you're set up! Visit {labelstudio_url}/projects/{project.id}/ and get started labelling!\")\n"
      ]
    }
  ],
  "metadata": {
    "colab": {
      "authorship_tag": "ABX9TyNQXCODqzp5OAdzNS2yD+5d",
      "include_colab_link": true,
      "mount_file_id": "1A5QLmDnmKIc3pgpz51EV-u2p2Hfv8HNA",
      "provenance": []
    },
    "kernelspec": {
      "display_name": "Python 3",
      "name": "python3"
    },
    "language_info": {
      "name": "python"
    }
  },
  "nbformat": 4,
  "nbformat_minor": 0
}
