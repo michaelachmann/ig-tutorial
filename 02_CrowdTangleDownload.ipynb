{
  "nbformat": 4,
  "nbformat_minor": 0,
  "metadata": {
    "colab": {
      "provenance": [],
      "mount_file_id": "1vVAOiZd4876WC0DNxXH0E1eu-m-Olp0x",
      "authorship_tag": "ABX9TyN9lRaKkjBh7nIX1b5SSjlT",
      "include_colab_link": true
    },
    "kernelspec": {
      "name": "python3",
      "display_name": "Python 3"
    },
    "language_info": {
      "name": "python"
    }
  },
  "cells": [
    {
      "cell_type": "markdown",
      "metadata": {
        "id": "view-in-github",
        "colab_type": "text"
      },
      "source": [
        "<a href=\"https://colab.research.google.com/github/michaelachmann/ig-tutorial/blob/main/02_CrowdTangleDownload.ipynb\" target=\"_parent\"><img src=\"https://colab.research.google.com/assets/colab-badge.svg\" alt=\"Open In Colab\"/></a>"
      ]
    },
    {
      "cell_type": "markdown",
      "source": [
        "# 2. Download images using CrowdTangle\n",
        "\n",
        "This is the second in a series of jupyter notebooks taking you through all necessary steps for an Instagram analysis. In this notebook we're using a dataframe provided by CrowdTangle in order to download images of Instagram posts.\n",
        "\n",
        "For an overview of all notebooks and articles [visit the the Github Repository](https://github.com/michaelachmann/ig-tutorial).\n",
        "\n"
      ],
      "metadata": {
        "id": "erR45Y5Bolis"
      }
    },
    {
      "cell_type": "code",
      "execution_count": null,
      "metadata": {
        "id": "fCFJyidY7y1h"
      },
      "outputs": [],
      "source": [
        "import pandas as pd"
      ]
    },
    {
      "cell_type": "markdown",
      "source": [],
      "metadata": {
        "id": "bVjoUUauprQv"
      }
    },
    {
      "cell_type": "code",
      "source": [
        "#@markdown Upload the CSV file to your colab instance (one the left hand side click on the files icon, than drag your CSV into the main folder). Enter the correct filename below and run the cell.\n",
        "filename = 'potus.csv' #@param {type:\"string\"}\n",
        "df = pd.read_csv(filename)"
      ],
      "metadata": {
        "id": "lfxxUZgO8JWd",
        "cellView": "form"
      },
      "execution_count": null,
      "outputs": []
    },
    {
      "cell_type": "markdown",
      "source": [
        "The next cell downloads the Instagram photos and stores them in separate folders named after each user's username. It first creates a directory with the name of the user and then saves the image to the corresponding directory with the name of the image being the ID of the post. This will allow us to easily locate images from different users in our local storage for further analysis."
      ],
      "metadata": {
        "id": "pmcG_GULqboR"
      }
    },
    {
      "cell_type": "code",
      "source": [
        "import requests\n",
        "from pathlib import Path\n",
        "images = []\n",
        "\n",
        "for index, row in df.iterrows():\n",
        "  path = \"/content/posts/{}\".format(row['User Name'])\n",
        "  Path(path).mkdir(parents=True, exist_ok=True)\n",
        "  img_id= row['URL'].split(\"/\")[4]\n",
        "  filename = \"{}.jpg\".format(img_id)\n",
        "\n",
        "  r = requests.get(row['Photo'], allow_redirects=True)\n",
        "\n",
        "  with open(\"{}/{}\".format(path, filename), 'wb') as f:\n",
        "    f.write(r.content)"
      ],
      "metadata": {
        "id": "SJM4QXvr8TNt"
      },
      "execution_count": null,
      "outputs": []
    },
    {
      "cell_type": "markdown",
      "source": [
        "Next we creates a ZIP archive of the downloaded Instagram photos and stores it in the current working directory. In order to transfer the downloaded images to your local computer you can download the `zip` files from the files tree on the left."
      ],
      "metadata": {
        "id": "jXQNx99oqfhv"
      }
    },
    {
      "cell_type": "code",
      "source": [
        "!zip -r potus_posts.zip posts/"
      ],
      "metadata": {
        "id": "w4qEOBxw_G8Y"
      },
      "execution_count": null,
      "outputs": []
    },
    {
      "cell_type": "markdown",
      "source": [
        "... or copy the file to your Google Drive. Don't forget to mount your drive before exectuing the next cell."
      ],
      "metadata": {
        "id": "7qunwJ7oq9fM"
      }
    },
    {
      "cell_type": "code",
      "source": [
        "!cp potus_posts.zip /content/drive/MyDrive/"
      ],
      "metadata": {
        "id": "Glgn80fb_MGF"
      },
      "execution_count": null,
      "outputs": []
    }
  ]
}